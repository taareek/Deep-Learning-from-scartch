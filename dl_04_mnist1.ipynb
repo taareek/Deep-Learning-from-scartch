{
 "cells": [
  {
   "cell_type": "code",
   "execution_count": 13,
   "metadata": {},
   "outputs": [],
   "source": [
    "#import necessary packages\n",
    "%matplotlib inline \n",
    "%config InlineBackend.figure_format = 'retina'\n",
    "\n",
    "import numpy as np\n",
    "import torch\n",
    "import helper\n",
    "import matplotlib.pyplot as plt"
   ]
  },
  {
   "cell_type": "code",
   "execution_count": 14,
   "metadata": {},
   "outputs": [],
   "source": [
    "from torchvision import datasets, transforms\n",
    "#Define a transforms tonormalize the data\n",
    "transform = transforms.Compose([transforms.ToTensor(),transforms.Normalize((0.5,), (0.5,)), ])\n",
    "\n",
    "# Download and load the training data\n",
    "trainset = datasets.MNIST('~/.pytorch/MNIST_data/', download=True, train=True, transform=transform)\n",
    "trainloader = torch.utils.data.DataLoader(trainset, batch_size=64, shuffle=True)"
   ]
  },
  {
   "cell_type": "code",
   "execution_count": 15,
   "metadata": {},
   "outputs": [
    {
     "name": "stdout",
     "output_type": "stream",
     "text": [
      "<class 'torch.Tensor'>\n",
      "torch.Size([64, 1, 28, 28])\n",
      "torch.Size([64])\n"
     ]
    }
   ],
   "source": [
    "dataiter = iter(trainloader)\n",
    "images, labels = dataiter.next()\n",
    "print(type(images))\n",
    "print(images.shape)\n",
    "print(labels.shape)"
   ]
  },
  {
   "cell_type": "code",
   "execution_count": 16,
   "metadata": {},
   "outputs": [
    {
     "data": {
      "text/plain": [
       "<matplotlib.image.AxesImage at 0x24695f22d30>"
      ]
     },
     "execution_count": 16,
     "metadata": {},
     "output_type": "execute_result"
    },
    {
     "data": {
      "image/png": "[encoded data removed]",
      "text/plain": [
       "<Figure size 432x288 with 1 Axes>"
      ]
     },
     "metadata": {
      "image/png": {
       "height": 248,
       "width": 251
      },
      "needs_background": "light"
     },
     "output_type": "display_data"
    }
   ],
   "source": [
    "#Showing an image\n",
    "plt.imshow(images[1].numpy().squeeze(), cmap = 'Greys_r')"
   ]
  },
  {
   "cell_type": "code",
   "execution_count": 17,
   "metadata": {},
   "outputs": [
    {
     "name": "stdout",
     "output_type": "stream",
     "text": [
      "(1, 28, 28)\n"
     ]
    }
   ],
   "source": [
    "b = images[1].numpy()\n",
    "print(b.shape)"
   ]
  },
  {
   "cell_type": "code",
   "execution_count": 34,
   "metadata": {},
   "outputs": [
    {
     "name": "stdout",
     "output_type": "stream",
     "text": [
      "tensor([[ 3.1454e+00,  4.3051e+00, -2.2658e+00,  7.9407e+00, -2.9872e+00,\n",
      "          1.1467e+01, -3.1288e+00,  1.2524e+01, -5.9518e+00, -7.6576e+00],\n",
      "        [ 7.0018e+00, -1.5942e+00, -2.8506e+00,  3.3681e+00, -1.6769e+00,\n",
      "          1.7211e+01,  2.7814e+00,  2.0995e+00, -1.1705e+01, -1.4051e+01],\n",
      "        [ 4.5965e+00,  6.6187e-02, -4.7708e-01,  5.5740e+00, -2.6772e+00,\n",
      "          2.4529e+01,  4.5391e-01,  7.6256e+00, -2.2342e+01, -2.1363e+01],\n",
      "        [ 5.1348e+00, -2.1440e+00, -1.4332e+01,  4.6694e+00,  6.4861e+00,\n",
      "          2.2864e+01,  2.8755e+00,  2.6698e+00, -1.2278e+01, -1.8988e+01],\n",
      "        [ 4.5252e+00,  7.4913e+00,  8.2282e-01,  1.0360e+01, -2.4679e-01,\n",
      "          2.2911e+01,  9.6542e+00,  6.1688e+00, -3.0152e+00, -1.7105e+01],\n",
      "        [ 1.2361e+01,  7.2247e+00, -1.1913e+01,  5.7226e+00,  9.6550e+00,\n",
      "          2.3665e+01,  1.1943e+01,  1.8571e+01, -8.5303e+00, -5.4800e+00],\n",
      "        [-1.3391e+00, -2.0354e+00, -1.1307e+01, -4.8477e+00, -3.5021e+00,\n",
      "          2.8649e+01,  2.2403e+00,  3.1286e+00, -1.3818e+01, -1.6608e+01],\n",
      "        [-6.1618e-01,  4.4741e+00, -2.3011e+00, -2.8495e+00,  4.4428e+00,\n",
      "          2.7054e+01,  1.1030e+01,  1.4336e+01, -1.3250e+01, -6.8460e+00],\n",
      "        [-6.3664e+00,  9.2175e+00, -8.9453e+00, -1.6613e+00, -5.9933e+00,\n",
      "          2.1366e+01,  2.6764e+00,  1.2023e+01, -9.1717e+00, -2.2087e+01],\n",
      "        [ 8.0491e+00,  4.8006e+00,  9.7931e-01, -1.7537e+00,  4.0225e+00,\n",
      "          1.6742e+01,  3.1938e+00,  9.2522e+00, -1.7173e+01, -8.7969e+00],\n",
      "        [ 2.0961e+00,  3.4477e+00,  4.4714e+00,  4.1309e-01, -5.6037e+00,\n",
      "          2.3462e+01, -1.1164e+01,  6.8202e+00, -1.9499e+01, -2.9216e+01],\n",
      "        [ 6.6975e+00,  2.2093e-01, -2.3734e+00,  4.3474e+00, -1.4181e+00,\n",
      "          1.8349e+01,  4.9751e+00,  1.2826e+01, -1.5673e+01, -1.2460e+01],\n",
      "        [ 7.0625e+00, -9.8749e+00, -5.9579e+00, -1.9309e+00,  5.8518e+00,\n",
      "          1.7056e+01, -2.3581e+00, -3.8345e+00, -2.0043e+01, -1.6623e+01],\n",
      "        [ 8.4460e+00,  1.8958e+00,  1.0403e-01,  1.1985e+01,  3.2650e+00,\n",
      "          2.7277e+01,  6.0686e+00,  9.9244e+00, -1.6042e+01, -1.9656e+01],\n",
      "        [ 3.7932e+00,  5.4306e+00, -3.0603e+00, -2.1420e+00,  3.9907e+00,\n",
      "          1.8175e+01,  1.2074e+01,  6.0292e+00, -4.3979e+00, -6.4649e+00],\n",
      "        [ 7.7143e+00,  7.2410e+00, -4.5732e+00,  1.7576e+00,  4.2185e+00,\n",
      "          2.1621e+01, -5.2602e+00,  1.2112e+01, -1.5983e+01, -1.1194e+01],\n",
      "        [ 7.4556e+00, -3.5429e-01, -4.5962e-01,  4.3105e+00,  8.0491e+00,\n",
      "          2.9438e+01, -1.2931e-01,  9.2911e+00, -1.6490e+01, -1.6018e+01],\n",
      "        [ 9.3497e+00, -1.4402e+00,  9.5616e-01, -3.1880e+00,  1.1435e+01,\n",
      "          1.4529e+01, -4.7634e-01,  6.7859e+00, -1.1512e+01, -7.9957e+00],\n",
      "        [ 7.5823e+00,  1.5490e+01, -7.2986e+00,  1.0746e+01, -3.7209e+00,\n",
      "          1.4326e+01, -1.1329e+00,  9.4959e+00, -8.3810e+00, -1.8638e+01],\n",
      "        [ 5.2444e+00,  1.4903e+01, -9.3539e+00,  1.4427e+00, -8.2487e+00,\n",
      "          1.4233e+01,  3.2841e+00, -8.3587e-01, -1.0593e+01, -2.2767e+01],\n",
      "        [ 1.0121e+01,  7.2941e+00, -1.9584e+00,  1.8774e+00,  2.1094e+00,\n",
      "          1.6339e+01,  1.2084e+01,  1.5354e+01, -2.0736e+01, -6.6295e+00],\n",
      "        [-1.9182e+00, -3.7049e+00, -4.5758e+00,  2.8946e+00,  2.1445e+00,\n",
      "          2.1077e+01, -2.7812e+00,  1.4241e+00, -8.2225e+00, -1.1036e+01],\n",
      "        [ 3.6401e-01,  1.2324e+00, -3.5052e+00,  2.7847e+00,  2.2935e+00,\n",
      "          1.5593e+01,  1.7647e+00,  2.1952e+01,  2.2116e+00, -2.5128e+01],\n",
      "        [-8.4683e-01,  4.8448e+00, -9.7626e+00,  1.9426e+00, -1.7131e+00,\n",
      "          2.8341e+01, -2.1076e+00,  4.0966e+00, -9.8928e+00, -2.4345e+01],\n",
      "        [ 8.4437e-01,  1.5895e+00, -5.1846e+00,  9.6723e+00,  5.0694e+00,\n",
      "          1.7196e+01,  3.3722e+00,  4.8790e+00, -1.6857e+01, -1.9583e+01],\n",
      "        [ 1.9862e+01,  1.8443e+00,  7.6349e+00,  1.6517e+00,  1.2020e+01,\n",
      "          2.0222e+01, -2.3195e+00,  1.0498e+01, -5.2589e+00, -1.6058e+01],\n",
      "        [-1.8440e+00,  1.4764e+01, -5.5325e+00,  6.2621e+00,  4.6174e+00,\n",
      "          2.7051e+01,  1.6037e+00,  1.8645e+01, -4.7603e+00, -1.8801e+01],\n",
      "        [ 1.7544e+01, -2.1796e+00,  2.7099e+00,  1.7821e+00,  1.2846e+00,\n",
      "          1.4124e+01, -1.2171e+00,  1.1307e+01, -4.8400e+00, -6.4147e+00],\n",
      "        [ 4.6570e+00,  6.8264e+00, -1.4002e+00,  5.4560e+00,  2.5589e+00,\n",
      "          1.8921e+01, -3.6301e-02,  5.6867e+00, -4.7692e+00, -2.0461e+01],\n",
      "        [ 1.0693e+01, -1.0308e+00,  5.7419e-01,  2.5047e+00, -3.0847e+00,\n",
      "          1.7322e+01,  5.6813e+00,  9.2460e+00, -1.4468e+01, -1.6354e+01],\n",
      "        [-2.6633e+00, -3.7124e+00,  3.1021e+00, -3.2152e-01,  4.0927e+00,\n",
      "          2.2206e+01, -2.5849e+00, -8.6384e-01, -1.2921e+01, -1.8190e+01],\n",
      "        [ 8.3680e+00,  8.4139e+00,  2.9985e+00,  7.5567e+00,  1.9780e+00,\n",
      "          1.4525e+01,  4.0698e+00,  5.7146e+00, -1.0594e+01, -1.9145e+01],\n",
      "        [ 7.4166e+00,  5.6438e+00, -5.1819e+00, -3.3584e-01, -1.2982e+00,\n",
      "          1.8766e+01,  5.8865e+00,  1.1634e+01, -1.1004e+01, -1.8241e+00],\n",
      "        [ 1.3712e+01, -1.7429e+00,  1.2601e-01,  1.7122e+00,  2.5268e+00,\n",
      "          2.4248e+01, -2.5042e+00, -2.3102e+00, -1.3593e+01, -1.0059e+01],\n",
      "        [ 1.5728e+01, -1.3490e+00, -6.2115e+00,  5.8013e+00, -1.7740e+00,\n",
      "          1.9455e+01,  5.6481e+00,  1.1362e+01, -6.5484e+00, -1.0700e+01],\n",
      "        [ 6.2072e+00,  1.3646e+01, -7.5965e+00, -2.7898e+00, -8.1892e+00,\n",
      "          1.5875e+01, -4.1070e+00,  1.6790e+01, -2.4043e+00, -1.5747e+01],\n",
      "        [ 3.2466e+00,  6.6800e+00,  1.6803e+00,  2.5895e+00, -4.0210e-02,\n",
      "          2.8696e+01,  1.2667e+00,  6.9308e+00, -1.9239e+01, -2.0817e+01],\n",
      "        [ 6.9723e+00,  3.7618e+00,  5.5562e+00,  5.2306e-02,  7.9799e+00,\n",
      "          2.2519e+01, -6.2083e+00,  4.1794e-01, -1.0353e+01, -1.6346e+01],\n",
      "        [ 3.7833e+00,  3.0885e+00, -1.5739e+00,  8.9126e+00,  3.5765e+00,\n",
      "          2.7851e+01,  1.1413e+01,  1.1491e+01, -1.4576e+01, -1.7583e+01],\n",
      "        [ 4.9969e+00,  1.0449e+01, -3.2567e+00, -5.3209e+00, -1.9242e+00,\n",
      "          2.4838e+01, -3.9443e+00,  4.1751e+00, -2.2260e+01, -1.4228e+01],\n",
      "        [ 3.5441e+00, -1.8374e+00,  8.1039e-01,  4.2067e+00,  6.5358e+00,\n",
      "          2.0422e+01,  6.8531e+00,  6.1879e+00, -1.0152e+01, -8.7576e+00],\n",
      "        [ 2.9089e-01,  1.0997e+00, -5.9693e+00, -2.1895e+00, -4.2815e+00,\n",
      "          2.1852e+01,  8.3324e-01,  4.9367e+00, -1.2796e+01, -3.0848e+00],\n",
      "        [ 2.5500e+00,  6.5640e+00, -9.5735e+00,  1.1955e+00, -6.2872e+00,\n",
      "          1.2768e+01, -5.1654e+00,  4.1444e+00, -7.8467e+00, -1.8196e+01],\n",
      "        [ 5.8222e+00, -1.7348e+00,  3.9818e+00,  6.8793e+00,  2.1257e+00,\n",
      "          8.8105e+00,  9.6805e+00, -2.3893e+00, -1.8550e+01, -1.4201e+01],\n",
      "        [ 2.4944e+00,  7.4231e-01, -1.3026e+01, -3.7259e+00,  4.9011e+00,\n",
      "          2.1734e+01,  1.3142e+01,  2.9193e+00, -1.0586e+01, -1.6131e+01],\n",
      "        [ 3.4211e+00, -1.1088e+00,  1.0517e+00,  1.8199e+00, -2.7306e+00,\n",
      "          1.5601e+01,  4.4384e+00,  5.6779e+00, -8.4245e+00, -8.0154e+00],\n",
      "        [ 1.4831e+01,  7.7258e+00, -5.1760e+00, -2.9347e+00,  1.0960e+01,\n",
      "          2.9563e+01,  6.5777e+00,  7.7142e+00, -1.0141e+01, -1.9894e+01],\n",
      "        [ 1.3368e+01, -9.9268e-01, -2.4039e+00,  1.1173e+01, -7.1387e+00,\n",
      "          6.0090e+00,  1.1183e+00, -4.4952e+00, -4.8063e+00, -2.0478e+01],\n",
      "        [ 1.3215e+01,  8.0725e+00,  1.4801e+00,  6.1884e+00, -1.2519e+00,\n",
      "          1.8645e+01, -7.0805e+00,  1.8446e+01, -1.8136e+01, -1.9822e+01],\n",
      "        [ 1.5480e+00,  3.6762e-01,  1.5569e+00,  7.2921e+00,  8.5329e+00,\n",
      "          1.4520e+01,  3.4789e+00,  5.4037e+00, -1.6363e+01, -1.1624e+01],\n",
      "        [ 1.1423e+00,  4.3487e+00, -1.4416e+00, -4.3778e-01, -2.4987e+00,\n",
      "          1.4045e+01,  4.9199e+00,  5.4740e+00, -6.8505e+00, -1.5975e+01],\n",
      "        [-2.3498e+00,  1.6579e+00,  6.6619e+00, -3.1608e-01, -2.0752e+00,\n",
      "          1.6325e+01, -1.2281e-02, -7.1524e-01, -1.6378e+01, -1.6873e+01],\n",
      "        [ 1.8524e+01,  3.3536e+00, -1.8174e+00, -6.1618e+00,  5.8943e+00,\n",
      "          2.1730e+01,  1.9305e+00,  4.2924e+00, -5.5091e+00, -2.6231e+00],\n",
      "        [ 1.9433e-01, -3.0352e+00, -2.2076e+00, -7.3941e-01, -2.9061e+00,\n",
      "          8.7547e+00, -8.5674e-01,  4.0702e+00, -8.0678e+00, -1.3979e+01],\n",
      "        [-3.5294e-01,  1.2763e+00, -2.4930e+00, -1.6139e+00, -3.5910e+00,\n",
      "          1.1151e+01,  9.1902e+00,  1.1876e+01, -1.0416e+01, -1.4160e+01],\n",
      "        [ 4.2190e+00, -3.1354e+00, -6.6748e+00,  7.6607e+00, -4.7037e+00,\n",
      "          1.7065e+01,  9.7285e-01,  7.5434e+00,  3.7414e+00, -1.8572e+01],\n",
      "        [ 1.3084e+01,  6.8526e+00,  6.3693e+00,  7.9415e+00,  4.4229e+00,\n",
      "          1.2047e+01,  1.5598e+00,  4.4145e+00, -5.7236e+00, -5.4446e+00],\n",
      "        [ 2.7700e+00,  8.5797e+00, -1.3147e+00,  2.7937e+00, -4.3477e+00,\n",
      "          1.9455e+01,  6.4653e+00,  1.6866e+01, -2.0414e+00, -1.6767e+01],\n",
      "        [ 2.1415e+00,  1.0495e+01, -4.5354e+00, -3.1741e+00, -1.5176e+00,\n",
      "          2.2840e+01,  5.2573e+00,  7.4633e+00, -9.0756e+00, -1.9652e+01],\n",
      "        [ 7.9125e+00,  7.3981e+00,  2.8599e+00,  2.5708e+00,  4.3742e+00,\n",
      "          2.9197e+01,  8.7404e+00,  7.6561e+00, -1.9222e+01, -1.4645e+01],\n",
      "        [ 1.5427e+01,  7.9598e+00,  3.7113e-01,  1.2420e+00,  1.2471e+01,\n",
      "          1.7537e+01, -4.9477e+00, -2.7260e+00, -1.4887e+01,  3.6674e-01],\n",
      "        [-3.7488e+00, -2.6734e+00, -4.8604e+00,  2.0630e+00,  8.6185e+00,\n",
      "          2.4062e+01,  7.0675e+00,  1.0942e+01, -1.3160e+01, -1.3846e+01],\n",
      "        [ 8.3261e+00,  9.9808e-01,  4.1387e+00, -7.0449e+00, -2.0487e+00,\n",
      "          1.1880e+01, -1.1504e+01,  2.1912e+00, -1.4418e+01, -1.4580e+01],\n",
      "        [ 1.6789e+01,  1.7838e+00,  5.9562e+00,  5.8470e+00,  7.5833e+00,\n",
      "          2.3213e+01,  6.6133e+00, -5.1637e+00, -1.3604e+01, -1.0305e+01]])\n"
     ]
    }
   ],
   "source": [
    "def activation(x):\n",
    "    return 1/(1+torch.exp(-x))\n",
    "#Flatten the input images\n",
    "inputs = images.view(images.shape[0], -1)\n",
    "#print(inputs.shape)\n",
    "# create parameters\n",
    "w1 = torch.randn(784, 256)\n",
    "b1 = torch.randn(256)\n",
    "\n",
    "w2 = torch.randn(256,10)\n",
    "b2 = torch.randn(10)\n",
    "\n",
    "h = activation(torch.mm(inputs, w1) + b1)\n",
    "out = torch.mm(h,w2) + b2\n",
    "#h.shape\n",
    "#out.shape\n",
    "print(out)"
   ]
  },
  {
   "cell_type": "code",
   "execution_count": 37,
   "metadata": {},
   "outputs": [
    {
     "name": "stdout",
     "output_type": "stream",
     "text": [
      "torch.Size([64, 10])\n",
      "tensor([1.0000, 1.0000, 1.0000, 1.0000, 1.0000, 1.0000, 1.0000, 1.0000, 1.0000,\n",
      "        1.0000, 1.0000, 1.0000, 1.0000, 1.0000, 1.0000, 1.0000, 1.0000, 1.0000,\n",
      "        1.0000, 1.0000, 1.0000, 1.0000, 1.0000, 1.0000, 1.0000, 1.0000, 1.0000,\n",
      "        1.0000, 1.0000, 1.0000, 1.0000, 1.0000, 1.0000, 1.0000, 1.0000, 1.0000,\n",
      "        1.0000, 1.0000, 1.0000, 1.0000, 1.0000, 1.0000, 1.0000, 1.0000, 1.0000,\n",
      "        1.0000, 1.0000, 1.0000, 1.0000, 1.0000, 1.0000, 1.0000, 1.0000, 1.0000,\n",
      "        1.0000, 1.0000, 1.0000, 1.0000, 1.0000, 1.0000, 1.0000, 1.0000, 1.0000,\n",
      "        1.0000])\n"
     ]
    }
   ],
   "source": [
    "def softmax(x):\n",
    "    return torch.exp(x) / torch.sum(torch.exp(x), dim = 1).view(-1,1)\n",
    "probabilities = softmax(out)\n",
    "# Does it have the right shape? Should be (64, 10)\n",
    "print(probabilities.shape)\n",
    "# Does it sum to 1?\n",
    "print(probabilities.sum(dim=1))"
   ]
  },
  {
   "cell_type": "code",
   "execution_count": null,
   "metadata": {},
   "outputs": [],
   "source": []
  }
 ],
 "metadata": {
  "kernelspec": {
   "display_name": "Python 3",
   "language": "python",
   "name": "python3"
  },
  "language_info": {
   "codemirror_mode": {
    "name": "ipython",
    "version": 3
   },
   "file_extension": ".py",
   "mimetype": "text/x-python",
   "name": "python",
   "nbconvert_exporter": "python",
   "pygments_lexer": "ipython3",
   "version": "3.8.5"
  }
 },
 "nbformat": 4,
 "nbformat_minor": 4
}
