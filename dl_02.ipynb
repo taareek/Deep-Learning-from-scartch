{
 "cells": [
  {
   "cell_type": "code",
   "execution_count": 1,
   "metadata": {},
   "outputs": [],
   "source": [
    "import torch"
   ]
  },
  {
   "cell_type": "code",
   "execution_count": 16,
   "metadata": {},
   "outputs": [],
   "source": [
    "def activation(x):\n",
    "    \"\"\" Sigmoid activation function \n",
    "    \n",
    "        Arguments\n",
    "        ---------\n",
    "        x: torch.Tensor\n",
    "    \"\"\"\n",
    "    return 1/(1+torch.exp(-x))"
   ]
  },
  {
   "cell_type": "code",
   "execution_count": 17,
   "metadata": {},
   "outputs": [
    {
     "name": "stdout",
     "output_type": "stream",
     "text": [
      "tensor([[-0.1468,  0.7861,  0.9468]])\n",
      "weights for input to hidden:  tensor([[-1.1143,  1.6908],\n",
      "        [-0.8948, -0.3556],\n",
      "        [ 1.2324,  0.1382]])\n",
      "Weights for hidden to output:  tensor([[-1.6822],\n",
      "        [ 0.3177]])\n",
      "Bias for hidden layers:  tensor([[0.1328, 0.1373]])\n",
      "Bias for output layer:  tensor([[0.7653]])\n"
     ]
    }
   ],
   "source": [
    "#Genarate some data\n",
    "torch.manual_seed(7) #set the random seeds so the things are predicdtable\n",
    "# Features are 3 random values for x1, x2, x3\n",
    "features = torch.randn((1,3))\n",
    "print(features)\n",
    "#print(features.shape)\n",
    "n_input = features.shape[1] # number of units/ inputs\n",
    "#print(n_input)\n",
    "n_hidden = 2 #number of hidden layers\n",
    "n_output = 1 #number of output units\n",
    "# Weights for input units to hidden layers\n",
    "w1 = torch.randn(n_input, n_hidden) # Row will be the number of inputs and column will be num of hidden layers\n",
    "print('weights for input to hidden: ', w1)\n",
    "#Weights for hidden layer to output layer\n",
    "w2 = torch.randn(n_hidden, n_output)\n",
    "print(\"Weights for hidden to output: \", w2)\n",
    "#Bias for hidden and outpu layers\n",
    "b1 = torch.randn((1, n_hidden))\n",
    "print(\"Bias for hidden layers: \",b1)\n",
    "b2 = torch.rand((1, n_output))\n",
    "print(\"Bias for output layer: \",b2)"
   ]
  },
  {
   "cell_type": "code",
   "execution_count": 21,
   "metadata": {},
   "outputs": [
    {
     "name": "stdout",
     "output_type": "stream",
     "text": [
      "output for hidden laye:  tensor([[0.6813, 0.4355]])\n",
      "Final output:  tensor([[0.4397]])\n"
     ]
    }
   ],
   "source": [
    "#Calculating the output for this network(2 hidden layer)\n",
    "h = activation(torch.mm(features, w1) +b1)\n",
    "print(\"output for hidden laye: \", h)\n",
    "output = activation(torch.mm(h, w2) + b2)\n",
    "print(\"Final output: \",output)"
   ]
  },
  {
   "cell_type": "code",
   "execution_count": null,
   "metadata": {},
   "outputs": [],
   "source": []
  }
 ],
 "metadata": {
  "kernelspec": {
   "display_name": "Python 3",
   "language": "python",
   "name": "python3"
  },
  "language_info": {
   "codemirror_mode": {
    "name": "ipython",
    "version": 3
   },
   "file_extension": ".py",
   "mimetype": "text/x-python",
   "name": "python",
   "nbconvert_exporter": "python",
   "pygments_lexer": "ipython3",
   "version": "3.8.5"
  }
 },
 "nbformat": 4,
 "nbformat_minor": 4
}
