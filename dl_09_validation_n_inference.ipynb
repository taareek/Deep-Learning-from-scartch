{
 "cells": [
  {
   "cell_type": "code",
   "execution_count": 1,
   "metadata": {},
   "outputs": [
    {
     "name": "stdout",
     "output_type": "stream",
     "text": [
      "Let's start !\n"
     ]
    }
   ],
   "source": [
    "print(\"Let's start !\")"
   ]
  },
  {
   "cell_type": "code",
   "execution_count": 2,
   "metadata": {},
   "outputs": [],
   "source": [
    "import torch\n",
    "from torchvision import datasets, transforms\n",
    "\n",
    "#Define transforms to normalizes the data\n",
    "transform = transforms.Compose([transforms.ToTensor(),\n",
    "                                transforms.Normalize((0.5,), (0.5,))])\n",
    "\n",
    "#Downloading and loading train set\n",
    "trainset = datasets.FashionMNIST('~/.pytorch/F_MNIST_data/', download=True, train=True, transform=transform)\n",
    "trainloader = torch.utils.data.DataLoader(trainset, batch_size = 64, shuffle = True)\n",
    "\n",
    "#Downloading and loading test set\n",
    "testset = datasets.FashionMNIST('~/.pytorch/F_MNIST_data/', download=True, train=False, transform=transform)\n",
    "testloader = torch.utils.data.DataLoader(testset, batch_size = 64, shuffle = True)"
   ]
  },
  {
   "cell_type": "markdown",
   "metadata": {},
   "source": [
    "Building Model"
   ]
  },
  {
   "cell_type": "code",
   "execution_count": 3,
   "metadata": {},
   "outputs": [],
   "source": [
    "from torch import nn, optim\n",
    "import torch.nn.functional as F\n",
    "\n",
    "class Classifier(nn.Module):\n",
    "    def __init__(self):\n",
    "        super().__init__()\n",
    "        self.input = nn.Linear(784, 256)\n",
    "        self.hdn_layer1 = nn.Linear(256, 128)\n",
    "        self.hdn_layer2 = nn.Linear(128, 64)\n",
    "        self.output = nn.Linear(64,10)\n",
    "        \n",
    "    def forward(self, x):\n",
    "        #Flatten the dataset\n",
    "        x = x.view(x.shape[0], -1)\n",
    "        \n",
    "        x = F.relu(self.input(x))\n",
    "        x = F.relu(self.hdn_layer1(x))\n",
    "        x = F.relu(self.hdn_layer2(x))\n",
    "        x = F.log_softmax(self.output(x), dim =1)\n",
    "        \n",
    "        return x"
   ]
  },
  {
   "cell_type": "code",
   "execution_count": 4,
   "metadata": {},
   "outputs": [
    {
     "data": {
      "text/plain": [
       "Linear(in_features=3, out_features=4, bias=True)"
      ]
     },
     "execution_count": 4,
     "metadata": {},
     "output_type": "execute_result"
    }
   ],
   "source": [
    "c = nn.Linear(3,4)\n",
    "c"
   ]
  },
  {
   "cell_type": "code",
   "execution_count": 5,
   "metadata": {},
   "outputs": [
    {
     "data": {
      "text/plain": [
       "torch.Size([64, 10])"
      ]
     },
     "execution_count": 5,
     "metadata": {},
     "output_type": "execute_result"
    }
   ],
   "source": [
    "model = Classifier()\n",
    "images, labels = next(iter(testloader))\n",
    "#t = images[12].view(images[12].shape[0], -1)\n",
    "#t.shape\n",
    "predict = torch.exp(model(images))\n",
    "predict.shape"
   ]
  },
  {
   "cell_type": "code",
   "execution_count": 6,
   "metadata": {},
   "outputs": [
    {
     "name": "stdout",
     "output_type": "stream",
     "text": [
      "tensor([[0.0948, 0.1136, 0.1060, 0.1103, 0.1123, 0.0952, 0.0924, 0.0884, 0.0890,\n",
      "         0.0979]], grad_fn=<ExpBackward>)\n",
      "tensor([[0.1136]], grad_fn=<TopkBackward>) tensor([[1]])\n",
      "tensor(7)\n"
     ]
    }
   ],
   "source": [
    "p = torch.exp(model(images[32]))\n",
    "print(p)\n",
    "max_value, max_index = p.topk(1, dim =1)\n",
    "print(max_value, max_index)\n",
    "print(labels[2])"
   ]
  },
  {
   "cell_type": "code",
   "execution_count": 7,
   "metadata": {},
   "outputs": [
    {
     "name": "stdout",
     "output_type": "stream",
     "text": [
      "<class 'torch.return_types.topk'>\n",
      "2\n"
     ]
    }
   ],
   "source": [
    "q = predict.topk(1)\n",
    "print(type(q))\n",
    "print(len(q))"
   ]
  },
  {
   "cell_type": "code",
   "execution_count": 8,
   "metadata": {},
   "outputs": [
    {
     "data": {
      "text/plain": [
       "tensor([[0.0963, 0.1128, 0.1085, 0.1061, 0.1096, 0.0973, 0.0917, 0.0932, 0.0911,\n",
       "         0.0935],\n",
       "        [0.0974, 0.1065, 0.1079, 0.1052, 0.1136, 0.0929, 0.0944, 0.0956, 0.0897,\n",
       "         0.0968],\n",
       "        [0.0986, 0.1086, 0.1074, 0.1046, 0.1144, 0.0949, 0.0908, 0.0931, 0.0913,\n",
       "         0.0964],\n",
       "        [0.0971, 0.1122, 0.1088, 0.1002, 0.1153, 0.0936, 0.0907, 0.0953, 0.0913,\n",
       "         0.0956],\n",
       "        [0.0959, 0.1093, 0.1078, 0.1048, 0.1125, 0.0956, 0.0928, 0.0921, 0.0925,\n",
       "         0.0966],\n",
       "        [0.0974, 0.1111, 0.1082, 0.1044, 0.1115, 0.0936, 0.0926, 0.0968, 0.0908,\n",
       "         0.0936],\n",
       "        [0.0980, 0.1147, 0.1059, 0.1053, 0.1137, 0.0904, 0.0964, 0.0936, 0.0867,\n",
       "         0.0954],\n",
       "        [0.0956, 0.1111, 0.1112, 0.1025, 0.1114, 0.0932, 0.0916, 0.0957, 0.0910,\n",
       "         0.0967],\n",
       "        [0.0934, 0.1121, 0.1066, 0.1075, 0.1130, 0.0960, 0.0940, 0.0910, 0.0880,\n",
       "         0.0984],\n",
       "        [0.0974, 0.1085, 0.1100, 0.1017, 0.1129, 0.0956, 0.0935, 0.0947, 0.0893,\n",
       "         0.0965]], grad_fn=<SliceBackward>)"
      ]
     },
     "execution_count": 8,
     "metadata": {},
     "output_type": "execute_result"
    }
   ],
   "source": [
    "predict[:10]"
   ]
  },
  {
   "cell_type": "code",
   "execution_count": 9,
   "metadata": {},
   "outputs": [
    {
     "name": "stdout",
     "output_type": "stream",
     "text": [
      "tensor([ 1,  2,  3,  4,  5,  6,  7,  8,  9, 10])\n",
      "torch.Size([10])\n"
     ]
    }
   ],
   "source": [
    "x = torch.arange(1,11)\n",
    "print(x)\n",
    "print(x.shape)"
   ]
  },
  {
   "cell_type": "code",
   "execution_count": 10,
   "metadata": {},
   "outputs": [
    {
     "name": "stdout",
     "output_type": "stream",
     "text": [
      "This returns top values and top indices\n",
      "torch.return_types.topk(\n",
      "values=tensor([10]),\n",
      "indices=tensor([9]))\n"
     ]
    }
   ],
   "source": [
    "print(\"This returns top values and top indices\")\n",
    "print(x.topk(1))"
   ]
  },
  {
   "cell_type": "code",
   "execution_count": 11,
   "metadata": {},
   "outputs": [
    {
     "name": "stdout",
     "output_type": "stream",
     "text": [
      "tensor([10])\n",
      "tensor([9])\n"
     ]
    }
   ],
   "source": [
    "a, b = x.topk(1)\n",
    "print(a)\n",
    "print(b)"
   ]
  },
  {
   "cell_type": "code",
   "execution_count": 12,
   "metadata": {},
   "outputs": [
    {
     "name": "stdout",
     "output_type": "stream",
     "text": [
      "tensor([[0.1128],\n",
      "        [0.1136],\n",
      "        [0.1144],\n",
      "        [0.1153],\n",
      "        [0.1125],\n",
      "        [0.1115],\n",
      "        [0.1147],\n",
      "        [0.1114],\n",
      "        [0.1130],\n",
      "        [0.1129]], grad_fn=<SliceBackward>)\n",
      "tensor([[1],\n",
      "        [4],\n",
      "        [4],\n",
      "        [4],\n",
      "        [4],\n",
      "        [4],\n",
      "        [1],\n",
      "        [4],\n",
      "        [4],\n",
      "        [4]])\n"
     ]
    }
   ],
   "source": [
    "top_p, top_class = predict.topk(1, dim=1)\n",
    "# Look at the most likely classes for the first 10 examples\n",
    "print(top_p[:10, :])\n",
    "print(top_class[:10,:])"
   ]
  },
  {
   "cell_type": "code",
   "execution_count": 13,
   "metadata": {},
   "outputs": [
    {
     "name": "stdout",
     "output_type": "stream",
     "text": [
      "torch.Size([64, 1])\n",
      "torch.Size([64])\n",
      "Labels shape is 1, 64\n"
     ]
    }
   ],
   "source": [
    "print(top_class.shape)\n",
    "print(labels.shape)\n",
    "print(\"Labels shape is 1, 64\")"
   ]
  },
  {
   "cell_type": "code",
   "execution_count": 14,
   "metadata": {},
   "outputs": [
    {
     "name": "stdout",
     "output_type": "stream",
     "text": [
      "torch.Size([64, 64])\n",
      "tensor([[False, False, False, False, False, False, False, False, False, False,\n",
      "         False, False, False, False, False,  True, False, False, False, False,\n",
      "         False, False, False, False, False, False, False, False,  True,  True,\n",
      "         False, False, False,  True, False, False, False, False, False, False,\n",
      "         False, False, False, False, False, False, False, False,  True, False,\n",
      "         False,  True,  True, False, False, False, False, False, False, False,\n",
      "          True, False, False, False],\n",
      "        [False, False, False, False, False, False, False, False, False, False,\n",
      "         False, False, False, False, False,  True, False, False, False, False,\n",
      "         False, False, False, False, False, False, False, False,  True,  True,\n",
      "         False, False, False,  True, False, False, False, False, False, False,\n",
      "         False, False, False, False, False, False, False, False,  True, False,\n",
      "         False,  True,  True, False, False, False, False, False, False, False,\n",
      "          True, False, False, False]])\n"
     ]
    }
   ],
   "source": [
    "eql = top_class == labels\n",
    "print(eql.shape)\n",
    "print(eql[1:3])"
   ]
  },
  {
   "cell_type": "code",
   "execution_count": 15,
   "metadata": {},
   "outputs": [
    {
     "name": "stdout",
     "output_type": "stream",
     "text": [
      "torch.Size([64, 1])\n",
      "tensor([[8],\n",
      "        [0],\n",
      "        [7],\n",
      "        [7],\n",
      "        [8],\n",
      "        [6],\n",
      "        [2],\n",
      "        [7],\n",
      "        [9],\n",
      "        [5],\n",
      "        [8],\n",
      "        [9],\n",
      "        [7],\n",
      "        [2],\n",
      "        [6],\n",
      "        [4],\n",
      "        [7],\n",
      "        [6],\n",
      "        [5],\n",
      "        [8],\n",
      "        [0],\n",
      "        [9],\n",
      "        [5],\n",
      "        [1],\n",
      "        [1],\n",
      "        [5],\n",
      "        [6],\n",
      "        [9],\n",
      "        [4],\n",
      "        [4],\n",
      "        [2],\n",
      "        [1],\n",
      "        [6],\n",
      "        [4],\n",
      "        [7],\n",
      "        [6],\n",
      "        [0],\n",
      "        [1],\n",
      "        [5],\n",
      "        [5],\n",
      "        [6],\n",
      "        [8],\n",
      "        [3],\n",
      "        [0],\n",
      "        [0],\n",
      "        [6],\n",
      "        [3],\n",
      "        [2],\n",
      "        [4],\n",
      "        [1],\n",
      "        [9],\n",
      "        [4],\n",
      "        [4],\n",
      "        [8],\n",
      "        [8],\n",
      "        [1],\n",
      "        [9],\n",
      "        [3],\n",
      "        [9],\n",
      "        [1],\n",
      "        [4],\n",
      "        [6],\n",
      "        [5],\n",
      "        [1]])\n",
      "tensor([8, 0, 7, 7, 8, 6, 2, 7, 9, 5, 8, 9, 7, 2, 6, 4, 7, 6, 5, 8, 0, 9, 5, 1,\n",
      "        1, 5, 6, 9, 4, 4, 2, 1, 6, 4, 7, 6, 0, 1, 5, 5, 6, 8, 3, 0, 0, 6, 3, 2,\n",
      "        4, 1, 9, 4, 4, 8, 8, 1, 9, 3, 9, 1, 4, 6, 5, 1])\n",
      "torch.Size([64])\n",
      "torch.Size([64, 1])\n"
     ]
    }
   ],
   "source": [
    "a = labels.view(top_class.shape)\n",
    "print(a.shape)\n",
    "print(a)\n",
    "print(labels)\n",
    "print(labels.shape)\n",
    "print(top_class.shape)"
   ]
  },
  {
   "cell_type": "code",
   "execution_count": 16,
   "metadata": {},
   "outputs": [
    {
     "name": "stdout",
     "output_type": "stream",
     "text": [
      "torch.Size([64, 1])\n",
      "torch.Size([64])\n",
      "torch.Size([64, 1])\n"
     ]
    }
   ],
   "source": [
    "print(top_class.shape)\n",
    "print(labels.shape)\n",
    "print(a.shape)"
   ]
  },
  {
   "cell_type": "code",
   "execution_count": 17,
   "metadata": {},
   "outputs": [],
   "source": [
    "equals = top_class == labels.view(top_class.shape)"
   ]
  },
  {
   "cell_type": "markdown",
   "metadata": {},
   "source": [
    "Now we need to calculate the percentage of correct predictions. equals has binary values, either 0 or 1. This means that if we just sum up all the values and divide by the number of values, we get the percentage of correct predictions. This is the same operation as taking the mean, so we can get the accuracy with a call to torch.mean. If only it was that simple. If you try torch.mean(equals), you'll get an error"
   ]
  },
  {
   "cell_type": "code",
   "execution_count": 18,
   "metadata": {},
   "outputs": [
    {
     "name": "stdout",
     "output_type": "stream",
     "text": [
      "Accuracy: 4.6875 %\n"
     ]
    }
   ],
   "source": [
    "accuracy = torch.mean(equals.type(torch.FloatTensor))\n",
    "print('Accuracy:', accuracy.item()*100, '%')"
   ]
  },
  {
   "cell_type": "raw",
   "metadata": {},
   "source": [
    "Training our model and implement validation "
   ]
  },
  {
   "cell_type": "code",
   "execution_count": 19,
   "metadata": {},
   "outputs": [
    {
     "name": "stdout",
     "output_type": "stream",
     "text": [
      "Epoch: 1/10..  Training Loss: 0.517..  Test Loss: 0.445..  Test Accuracy: 0.836\n",
      "Epoch: 2/10..  Training Loss: 0.375..  Test Loss: 0.403..  Test Accuracy: 0.853\n",
      "Epoch: 3/10..  Training Loss: 0.338..  Test Loss: 0.389..  Test Accuracy: 0.861\n",
      "Epoch: 4/10..  Training Loss: 0.311..  Test Loss: 0.396..  Test Accuracy: 0.862\n",
      "Epoch: 5/10..  Training Loss: 0.293..  Test Loss: 0.355..  Test Accuracy: 0.869\n",
      "Epoch: 6/10..  Training Loss: 0.275..  Test Loss: 0.349..  Test Accuracy: 0.878\n",
      "Epoch: 7/10..  Training Loss: 0.262..  Test Loss: 0.339..  Test Accuracy: 0.876\n",
      "Epoch: 8/10..  Training Loss: 0.247..  Test Loss: 0.357..  Test Accuracy: 0.874\n",
      "Epoch: 9/10..  Training Loss: 0.238..  Test Loss: 0.349..  Test Accuracy: 0.882\n",
      "Epoch: 10/10..  Training Loss: 0.227..  Test Loss: 0.369..  Test Accuracy: 0.875\n"
     ]
    }
   ],
   "source": [
    "model = Classifier()\n",
    "loss_function = nn.NLLLoss()\n",
    "optimizer = optim.Adam(model.parameters(), lr = 0.001)\n",
    "\n",
    "epochs = 10\n",
    "steps = 0\n",
    "train_losses, test_losses = [], []\n",
    "for i in range(epochs):\n",
    "    running_loss = 0\n",
    "    for images, labels in trainloader:\n",
    "        optimizer.zero_grad()\n",
    "        log_prediction = model(images)\n",
    "        loss = loss_function(log_prediction, labels)\n",
    "        loss.backward()\n",
    "        optimizer.step()\n",
    "        \n",
    "        running_loss += loss.item()\n",
    "        \n",
    "    else:\n",
    "        test_loss = 0\n",
    "        accuracy = 0\n",
    "        # Turning off gradients for validation, saves memory and computations\n",
    "        with torch.no_grad():\n",
    "            for images, labels in testloader:\n",
    "                log_predict = model(images)\n",
    "                test_loss += loss_function(log_predict, labels)\n",
    "                \n",
    "                ps = torch.exp(log_predict)\n",
    "                top_value, top_class = ps.topk(1, dim = 1)\n",
    "                equals = top_class == labels.view(top_class.shape)\n",
    "                accuracy += torch.mean(equals.type(torch.FloatTensor))\n",
    "                \n",
    "        train_losses.append(running_loss/len(trainloader))\n",
    "        test_losses.append(test_loss/len(testloader))\n",
    "        \n",
    "        print(\"Epoch: {}/{}.. \".format(i+1, epochs),\n",
    "              \"Training Loss: {:.3f}.. \".format(running_loss/len(trainloader)),\n",
    "              \"Test Loss: {:.3f}.. \".format(test_loss/len(testloader)),\n",
    "              \"Test Accuracy: {:.3f}\".format(accuracy/len(testloader)))"
   ]
  },
  {
   "cell_type": "code",
   "execution_count": 20,
   "metadata": {},
   "outputs": [
    {
     "data": {
      "text/plain": [
       "<matplotlib.legend.Legend at 0x1ab6238d490>"
      ]
     },
     "execution_count": 20,
     "metadata": {},
     "output_type": "execute_result"
    },
    {
     "data": {
      "image/png": "[encoded data removed]",
      "text/plain": [
       "<Figure size 432x288 with 1 Axes>"
      ]
     },
     "metadata": {
      "image/png": {
       "height": 248,
       "width": 378
      },
      "needs_background": "light"
     },
     "output_type": "display_data"
    }
   ],
   "source": [
    "%matplotlib inline\n",
    "%config InlineBackend.figure_format = 'retina'\n",
    "\n",
    "import matplotlib.pyplot as plt \n",
    "\n",
    "plt.plot(train_losses, label = 'Train loss')\n",
    "plt.plot(test_losses, label = 'Validation loss')\n",
    "plt.legend(frameon = False)"
   ]
  },
  {
   "cell_type": "markdown",
   "metadata": {},
   "source": [
    "Droput"
   ]
  },
  {
   "cell_type": "code",
   "execution_count": 34,
   "metadata": {},
   "outputs": [],
   "source": [
    "class Classifier(nn.Module):\n",
    "    def __init__(self):\n",
    "        super().__init__()\n",
    "        self.fc1 = nn.Linear(784, 256)\n",
    "        self.fc2 = nn.Linear(256, 128)\n",
    "        self.fc3 = nn.Linear(128, 64)\n",
    "        self.fc4 = nn.Linear(64, 10)\n",
    "\n",
    "        # Dropout module with 0.2 drop probability\n",
    "        self.dropout = nn.Dropout(p=0.2)\n",
    "\n",
    "    def forward(self, x):\n",
    "        # make sure input tensor is flattened\n",
    "        x = x.view(x.shape[0], -1)\n",
    "\n",
    "        # Now with dropout\n",
    "        x = self.dropout(F.relu(self.fc1(x)))\n",
    "        x = self.dropout(F.relu(self.fc2(x)))\n",
    "        x = self.dropout(F.relu(self.fc3(x)))\n",
    "\n",
    "        # output so no dropout here\n",
    "        x = F.log_softmax(self.fc4(x), dim=1)\n",
    "\n",
    "        return x"
   ]
  },
  {
   "cell_type": "code",
   "execution_count": 36,
   "metadata": {},
   "outputs": [
    {
     "name": "stdout",
     "output_type": "stream",
     "text": [
      "Epoch: 1/10..  Training Loss: 0.608..  Test Loss: 0.520..  Test Accuracy: 0.810\n",
      "Epoch: 2/10..  Training Loss: 0.489..  Test Loss: 0.436..  Test Accuracy: 0.840\n",
      "Epoch: 3/10..  Training Loss: 0.456..  Test Loss: 0.443..  Test Accuracy: 0.834\n",
      "Epoch: 4/10..  Training Loss: 0.432..  Test Loss: 0.403..  Test Accuracy: 0.857\n",
      "Epoch: 5/10..  Training Loss: 0.421..  Test Loss: 0.418..  Test Accuracy: 0.851\n",
      "Epoch: 6/10..  Training Loss: 0.418..  Test Loss: 0.432..  Test Accuracy: 0.854\n",
      "Epoch: 7/10..  Training Loss: 0.412..  Test Loss: 0.388..  Test Accuracy: 0.865\n",
      "Epoch: 8/10..  Training Loss: 0.401..  Test Loss: 0.388..  Test Accuracy: 0.860\n",
      "Epoch: 9/10..  Training Loss: 0.395..  Test Loss: 0.390..  Test Accuracy: 0.860\n",
      "Epoch: 10/10..  Training Loss: 0.391..  Test Loss: 0.390..  Test Accuracy: 0.865\n"
     ]
    }
   ],
   "source": [
    "model = Classifier()\n",
    "criterion = nn.NLLLoss()\n",
    "optimizer = optim.Adam(model.parameters(), lr=0.003)\n",
    "\n",
    "epochs = 10\n",
    "steps = 0\n",
    "\n",
    "train_losses, test_losses = [], []\n",
    "for e in range(epochs):\n",
    "    running_loss = 0\n",
    "    for images, labels in trainloader:\n",
    "        \n",
    "        optimizer.zero_grad()\n",
    "        \n",
    "        log_ps = model(images)\n",
    "        loss = criterion(log_ps, labels)\n",
    "        loss.backward()\n",
    "        optimizer.step()\n",
    "        \n",
    "        running_loss += loss.item()\n",
    "        \n",
    "    else:\n",
    "        test_loss = 0\n",
    "        accuracy = 0\n",
    "        \n",
    "        # Turn off gradients for validation, saves memory and computations\n",
    "        with torch.no_grad():\n",
    "            model.eval()\n",
    "            for images, labels in testloader:\n",
    "                log_ps = model(images)\n",
    "                test_loss += criterion(log_ps, labels)\n",
    "                \n",
    "                ps = torch.exp(log_ps)\n",
    "                top_p, top_class = ps.topk(1, dim=1)\n",
    "                equals = top_class == labels.view(*top_class.shape)\n",
    "                accuracy += torch.mean(equals.type(torch.FloatTensor))\n",
    "        \n",
    "        model.train()\n",
    "        \n",
    "        train_losses.append(running_loss/len(trainloader))\n",
    "        test_losses.append(test_loss/len(testloader))\n",
    "\n",
    "        print(\"Epoch: {}/{}.. \".format(e+1, epochs),\n",
    "              \"Training Loss: {:.3f}.. \".format(train_losses[-1]),\n",
    "              \"Test Loss: {:.3f}.. \".format(test_losses[-1]),\n",
    "              \"Test Accuracy: {:.3f}\".format(accuracy/len(testloader)))"
   ]
  },
  {
   "cell_type": "code",
   "execution_count": 37,
   "metadata": {},
   "outputs": [
    {
     "data": {
      "text/plain": [
       "<matplotlib.legend.Legend at 0x1ab627f6cd0>"
      ]
     },
     "execution_count": 37,
     "metadata": {},
     "output_type": "execute_result"
    },
    {
     "data": {
      "image/png": "[encoded data removed]",
      "text/plain": [
       "<Figure size 432x288 with 1 Axes>"
      ]
     },
     "metadata": {
      "image/png": {
       "height": 248,
       "width": 378
      },
      "needs_background": "light"
     },
     "output_type": "display_data"
    }
   ],
   "source": [
    "%matplotlib inline\n",
    "%config InlineBackend.figure_format = 'retina'\n",
    "\n",
    "import matplotlib.pyplot as plt\n",
    "\n",
    "plt.plot(train_losses, label='Training loss')\n",
    "plt.plot(test_losses, label='Validation loss')\n",
    "plt.legend(frameon=False)"
   ]
  },
  {
   "cell_type": "code",
   "execution_count": 38,
   "metadata": {},
   "outputs": [
    {
     "data": {
      "image/png": "[encoded data removed]",
      "text/plain": [
       "<Figure size 432x648 with 2 Axes>"
      ]
     },
     "metadata": {
      "image/png": {
       "height": 216,
       "width": 424
      },
      "needs_background": "light"
     },
     "output_type": "display_data"
    }
   ],
   "source": [
    "# Import helper module (should be in the repo)\n",
    "import helper\n",
    "\n",
    "# Test out your network!\n",
    "\n",
    "model.eval()\n",
    "\n",
    "dataiter = iter(testloader)\n",
    "images, labels = dataiter.next()\n",
    "img = images[0]\n",
    "# Convert 2D image to 1D vector\n",
    "img = img.view(1, 784)\n",
    "\n",
    "# Calculate the class probabilities (softmax) for img\n",
    "with torch.no_grad():\n",
    "    output = model.forward(img)\n",
    "\n",
    "ps = torch.exp(output)\n",
    "\n",
    "# Plot the image and probabilities\n",
    "helper.view_classify(img.view(1, 28, 28), ps, version='Fashion')"
   ]
  },
  {
   "cell_type": "code",
   "execution_count": 32,
   "metadata": {},
   "outputs": [],
   "source": [
    "class Classifier(nn.Module):\n",
    "    def __init__(self):\n",
    "        super().__init__()\n",
    "        self.input = nn.Linear(784,256)\n",
    "        self.hdn_layer1 = nn.Linear(256,128)\n",
    "        self.hdn_layer2 = nn.Linear(128,64)\n",
    "        self.output = nn.Linear(64,10)\n",
    "        # Dropout module with 0.2 drop probability\n",
    "        self.dropout = nn.Dropout(p = 0.2)\n",
    "        \n",
    "        def forwardpass(self,x):\n",
    "            #Flatten the datasets\n",
    "            x = x.view(x.shape[0], -1)\n",
    "            #Implenting dropout in layers\n",
    "            x = self.dropout(F.relu(self.input(x)))\n",
    "            x = self.dropout(F.relu(self.hdn_layer1(x)))\n",
    "            x = self.dropout(F.relu(self.hdn_layer2(x)))\n",
    "            #For output we will not use dropout\n",
    "            x = F.log_softmax(self.output(x), dim = 1)\n",
    "            \n",
    "            return x"
   ]
  },
  {
   "cell_type": "code",
   "execution_count": 33,
   "metadata": {},
   "outputs": [
    {
     "data": {
      "text/plain": [
       "tensor([[[-1.0000, -1.0000, -1.0000, -1.0000, -1.0000, -1.0000, -1.0000,\n",
       "          -1.0000, -1.0000, -1.0000, -1.0000, -1.0000, -1.0000, -1.0000,\n",
       "          -1.0000, -1.0000, -1.0000, -1.0000, -1.0000, -1.0000, -1.0000,\n",
       "          -1.0000, -1.0000, -1.0000, -1.0000, -1.0000, -1.0000, -1.0000],\n",
       "         [-1.0000, -0.9843, -1.0000, -1.0000, -0.2941, -0.5059, -0.5294,\n",
       "          -0.0039, -0.9529, -0.2863, -0.6471, -0.3176, -0.4039, -0.5765,\n",
       "          -0.7098, -0.4824, -0.2235, -0.7020, -0.2471, -0.9451, -0.1294,\n",
       "          -0.3882, -0.5922, -0.1922, -0.9765, -1.0000, -0.9922, -1.0000],\n",
       "         [-1.0000, -0.9922, -1.0000, -1.0000,  0.7804,  0.3725,  0.6314,\n",
       "           0.7098,  0.6000,  0.7098,  0.6471,  0.6078,  0.6157,  0.4980,\n",
       "           0.6078,  0.6157,  0.5686,  0.6157,  0.7098,  0.6627,  0.7098,\n",
       "           0.6314,  0.3255,  0.8275, -0.8118, -1.0000, -0.9843, -1.0000],\n",
       "         [-1.0000, -0.9765, -1.0000, -1.0000,  0.4588,  0.1765,  0.2392,\n",
       "           0.3333,  0.3176,  0.2000,  0.1216,  0.1686,  0.1373,  0.1922,\n",
       "           0.3255,  0.1294,  0.2157,  0.2314,  0.2000,  0.4745,  0.3255,\n",
       "           0.2235,  0.2000,  0.2706, -0.8353, -1.0000, -0.9843, -1.0000],\n",
       "         [-1.0000, -0.9843, -1.0000, -0.9765,  0.6392,  0.2471,  0.2863,\n",
       "           0.2863,  0.3647,  0.2863,  0.2314,  0.0745,  0.0588,  0.3098,\n",
       "           0.1373,  0.1843,  0.2314,  0.1451,  0.2627,  0.2392,  0.3725,\n",
       "           0.2863,  0.2471,  0.6000, -0.7098, -1.0000, -0.9765, -1.0000],\n",
       "         [-1.0000, -0.9765, -1.0000, -0.8431,  0.5608,  0.3098,  0.4431,\n",
       "           0.2392,  0.5373,  0.4902,  0.4510,  0.3490,  0.3961,  0.4510,\n",
       "           0.2941,  0.4275,  0.3725,  0.2941,  0.3961,  0.3490,  0.4118,\n",
       "           0.3725,  0.2863,  0.5686, -0.6078, -1.0000, -0.9529, -1.0000],\n",
       "         [-1.0000, -0.9686, -1.0000, -0.6471,  0.4196,  0.4275,  0.4510,\n",
       "           0.5608,  0.4275,  0.3725,  0.4510,  0.4588,  0.4196,  0.4588,\n",
       "           0.4588,  0.4667,  0.4745,  0.3961,  0.4745,  0.5529,  0.5373,\n",
       "           0.4902,  0.4510,  0.4431, -0.4118, -1.0000, -0.9686, -1.0000],\n",
       "         [-1.0000, -1.0000, -1.0000, -0.4196,  0.5216,  0.4196,  0.4902,\n",
       "           0.5059,  0.3176,  0.2941,  0.3176,  0.2627,  0.3961,  0.4039,\n",
       "           0.3804,  0.5059,  0.3333,  0.3255,  0.3176,  0.3490,  0.4510,\n",
       "           0.5216,  0.4275,  0.5216, -0.2000, -1.0000, -0.9843, -1.0000],\n",
       "         [-1.0000, -1.0000, -1.0000, -0.1608,  0.4431,  0.2627,  0.4980,\n",
       "           0.5922,  0.3255,  0.3647,  0.3333,  0.3647,  0.3647,  0.4118,\n",
       "           0.3490,  0.3647,  0.3333,  0.3647,  0.4039,  0.3569,  0.5059,\n",
       "           0.5451,  0.2627,  0.4745,  0.0039, -1.0000, -0.9922, -1.0000],\n",
       "         [-0.9922, -1.0000, -1.0000,  0.2392,  0.4745,  0.2314,  0.5451,\n",
       "           0.6941,  0.2863,  0.3804,  0.3255,  0.3804,  0.3255,  0.3333,\n",
       "           0.3333,  0.3725,  0.3569,  0.3333,  0.4118,  0.3490,  0.6549,\n",
       "           0.6784,  0.2314,  0.4667,  0.3804, -1.0000, -1.0000, -0.9922],\n",
       "         [-0.9843, -1.0000, -1.0000,  0.4510,  0.4980,  0.2157,  0.5216,\n",
       "           0.8275,  0.2863,  0.3569,  0.3569,  0.3490,  0.3176,  0.3333,\n",
       "           0.3255,  0.3333,  0.3725,  0.3647,  0.3725,  0.3333,  0.7098,\n",
       "           0.6549,  0.1451,  0.4588,  0.5451, -0.9529, -1.0000, -0.9922],\n",
       "         [-0.9686, -1.0000, -0.9294,  0.5059,  0.4902,  0.1843,  0.5451,\n",
       "           0.8510,  0.2784,  0.3333,  0.3569,  0.3490,  0.3176,  0.3647,\n",
       "           0.3255,  0.3333,  0.3647,  0.4039,  0.4431,  0.2471,  0.7882,\n",
       "           0.6471,  0.1765,  0.4667,  0.5922, -0.7490, -1.0000, -1.0000],\n",
       "         [-0.9922, -1.0000, -0.6471,  0.6314,  0.4588,  0.2627,  0.5373,\n",
       "           0.7725,  0.2784,  0.3333,  0.3569,  0.3647,  0.3176,  0.3647,\n",
       "           0.3333,  0.3647,  0.3569,  0.4039,  0.4118,  0.3333,  0.6863,\n",
       "           0.5922,  0.2235,  0.4902,  0.4667, -0.3882, -1.0000, -1.0000],\n",
       "         [-0.9686, -1.0000, -0.4118,  0.6314,  0.4980,  0.2941,  0.4745,\n",
       "           0.4275,  0.3647,  0.3333,  0.3569,  0.3647,  0.3255,  0.3647,\n",
       "           0.3333,  0.3569,  0.3569,  0.3804,  0.4118,  0.3961,  0.4431,\n",
       "           0.5059,  0.3176,  0.4431,  0.4588, -0.1608, -1.0000, -1.0000],\n",
       "         [-0.9922, -1.0000, -0.2706,  0.4275,  0.5059,  0.2941,  0.4196,\n",
       "           0.1373,  0.4196,  0.3333,  0.3647,  0.3725,  0.3333,  0.3647,\n",
       "           0.3333,  0.3647,  0.3569,  0.3961,  0.4118,  0.4196,  0.1765,\n",
       "           0.3490,  0.3333,  0.5137,  0.4510, -0.1059, -1.0000, -1.0000],\n",
       "         [-1.0000, -1.0000,  0.4980,  0.4510,  0.7490,  0.1765,  0.9137,\n",
       "           0.7490,  0.2392,  0.3804,  0.3647,  0.3725,  0.3333,  0.3647,\n",
       "           0.3333,  0.3569,  0.3647,  0.3725,  0.4431,  0.2863,  0.6000,\n",
       "           0.9922,  0.1529,  0.7412,  0.4510,  0.6078, -0.8745, -1.0000],\n",
       "         [-1.0000, -0.1373,  0.4980,  0.3961,  0.7098,  0.1843,  0.7961,\n",
       "           0.7569,  0.2000,  0.4039,  0.3725,  0.3725,  0.3725,  0.3569,\n",
       "           0.3569,  0.3647,  0.3961,  0.3725,  0.4510,  0.2863,  0.6314,\n",
       "           0.9686,  0.1529,  0.6471,  0.4667,  0.4510,  0.1451, -1.0000],\n",
       "         [-0.9843,  0.2784,  0.3333,  0.4118,  0.4510,  0.1765,  0.5216,\n",
       "           0.5059,  0.2863,  0.3961,  0.3725,  0.3725,  0.3725,  0.3647,\n",
       "           0.3647,  0.3647,  0.3725,  0.3804,  0.4039,  0.3725,  0.4275,\n",
       "           0.5608,  0.1765,  0.4275,  0.4118,  0.2941,  0.3725, -0.8510],\n",
       "         [-0.4588,  0.4431,  0.4196,  0.5922,  0.5373,  0.4902,  0.6471,\n",
       "           0.4431,  0.3333,  0.3804,  0.3725,  0.3725,  0.3725,  0.3725,\n",
       "           0.3647,  0.3647,  0.3725,  0.3961,  0.4039,  0.4196,  0.4431,\n",
       "           0.6157,  0.4588,  0.4980,  0.5843,  0.4667,  0.4431, -0.2235],\n",
       "         [-1.0000, -0.7098, -0.2784,  0.1922,  0.4039, -0.1608, -0.1373,\n",
       "           0.5922,  0.3569,  0.3725,  0.3725,  0.3725,  0.3725,  0.3804,\n",
       "           0.3647,  0.3569,  0.3569,  0.3961,  0.4196,  0.3569,  0.5922,\n",
       "          -0.0039, -0.1922,  0.4039,  0.2314, -0.2392, -0.6078, -1.0000],\n",
       "         [-1.0000, -1.0000, -1.0000, -1.0000, -1.0000, -1.0000, -1.0000,\n",
       "           0.6863,  0.3176,  0.3725,  0.3725,  0.3725,  0.3725,  0.3804,\n",
       "           0.3725,  0.3647,  0.3647,  0.3804,  0.3725,  0.3961,  0.7020,\n",
       "          -0.8039, -1.0000, -1.0000, -1.0000, -1.0000, -1.0000, -1.0000],\n",
       "         [-0.9922, -0.9765, -0.9686, -1.0000, -1.0000, -1.0000, -0.7020,\n",
       "           0.7255,  0.3098,  0.3804,  0.3647,  0.3647,  0.3647,  0.3725,\n",
       "           0.3725,  0.3725,  0.3725,  0.3804,  0.3647,  0.3804,  0.7725,\n",
       "          -0.4667, -1.0000, -1.0000, -1.0000, -1.0000, -0.9765, -1.0000],\n",
       "         [-1.0000, -1.0000, -0.9922, -0.9922, -0.9922, -1.0000, -0.7176,\n",
       "           0.7255,  0.3569,  0.3725,  0.3647,  0.3647,  0.3647,  0.3647,\n",
       "           0.3647,  0.3647,  0.3647,  0.3725,  0.4039,  0.4118,  0.5137,\n",
       "          -0.4745, -1.0000, -0.9765, -1.0000, -1.0000, -0.9922, -1.0000],\n",
       "         [-1.0000, -0.9922, -0.9922, -1.0000, -0.9843, -1.0000, -0.7098,\n",
       "           0.4667,  0.3490,  0.3804,  0.3725,  0.3725,  0.3725,  0.3961,\n",
       "           0.3961,  0.3961,  0.3804,  0.3961,  0.4275,  0.3961,  0.5059,\n",
       "          -0.4353, -1.0000, -0.9843, -1.0000, -1.0000, -0.9922, -1.0000],\n",
       "         [-1.0000, -1.0000, -1.0000, -1.0000, -0.9765, -1.0000, -0.6863,\n",
       "           0.4745,  0.3333,  0.3490,  0.3098,  0.3098,  0.2941,  0.3490,\n",
       "           0.3490,  0.3333,  0.3490,  0.3490,  0.3804,  0.3569,  0.5059,\n",
       "          -0.4039, -1.0000, -0.9529, -0.9922, -1.0000, -1.0000, -1.0000],\n",
       "         [-1.0000, -1.0000, -1.0000, -1.0000, -0.9765, -1.0000, -0.5922,\n",
       "           0.5137,  0.4510,  0.6392,  0.6863,  0.6627,  0.6549,  0.6549,\n",
       "           0.6784,  0.6863,  0.6627,  0.6627,  0.7333,  0.4431,  0.5451,\n",
       "          -0.2941, -1.0000, -0.9686, -0.9922, -1.0000, -0.9922, -1.0000],\n",
       "         [-1.0000, -1.0000, -0.9922, -1.0000, -1.0000, -1.0000, -1.0000,\n",
       "          -0.7647, -0.4824, -0.3255, -0.3176, -0.3020, -0.3176, -0.2471,\n",
       "          -0.2078, -0.1922, -0.2078, -0.2471, -0.3647, -0.5451, -0.7804,\n",
       "          -1.0000, -1.0000, -0.9922, -1.0000, -1.0000, -1.0000, -1.0000],\n",
       "         [-1.0000, -1.0000, -1.0000, -1.0000, -1.0000, -1.0000, -1.0000,\n",
       "          -1.0000, -1.0000, -1.0000, -1.0000, -1.0000, -1.0000, -1.0000,\n",
       "          -1.0000, -1.0000, -1.0000, -1.0000, -1.0000, -1.0000, -1.0000,\n",
       "          -1.0000, -1.0000, -1.0000, -1.0000, -1.0000, -1.0000, -1.0000]]])"
      ]
     },
     "execution_count": 33,
     "metadata": {},
     "output_type": "execute_result"
    }
   ],
   "source": [
    "model = Classifier()\n",
    "loss_fun = nn.NLLLoss()\n",
    "optimizer = optim.Adam(model.parameters(), lr = 0.01)\n",
    "\n",
    "epocs = 10\n",
    "steps = 0\n",
    "\n",
    "train_losses, test_losses = [], []\n",
    "\n",
    "for a in range(epochs):\n",
    "    running_loss = 0\n",
    "    for images, labels in trainloader:\n",
    "        optimizer.zero_grad()\n",
    "        pre = model(images)\n",
    "        loss = loss_fun(pre, labels)\n",
    "        loss.backward()\n",
    "        optimizer.step()\n",
    "        \n",
    "        running_loss += loss.item()\n",
    "    else:\n",
    "        test_loss = 0\n",
    "        accuracy = 0\n",
    "        # Turn off gradients for validation, saves memory and computations\n",
    "        with torch.no_grad():\n",
    "            #Setting model Evalation mode\n",
    "            model.eval()\n",
    "            #Validation pass\n",
    "            for images, labels in  testloader:\n",
    "                l_predict = model(images)\n",
    "                test_loss += loss_fun(l_predict, labels)\n",
    "                \n",
    "                ps = torch.exp(l_predict)\n",
    "                top_value, top_class = ps.topk(1, dim = 1)\n",
    "                equals = top_class == labels.view(top_class.shape)\n",
    "                accuracy += torch.mean(equals.type(torch.FloatTensor))\n",
    "                \n",
    "            model.train()\n",
    "            \n",
    "            train_losses.append(running_loss/len(trainloader))\n",
    "            test_losses.append(test_loss/len(testloader))\n",
    "            \n",
    "            print(\"Epoch: {}/{}.. \".format(a+1, epochs),\n",
    "              \"Training Loss: {:.3f}.. \".format(train_losses[-1]),\n",
    "              \"Test Loss: {:.3f}.. \".format(test_losses[-1]),\n",
    "              \"Test Accuracy: {:.3f}\".format(accuracy/len(testloader)))"
   ]
  },
  {
   "cell_type": "code",
   "execution_count": null,
   "metadata": {},
   "outputs": [],
   "source": []
  }
 ],
 "metadata": {
  "kernelspec": {
   "display_name": "Python 3",
   "language": "python",
   "name": "python3"
  },
  "language_info": {
   "codemirror_mode": {
    "name": "ipython",
    "version": 3
   },
   "file_extension": ".py",
   "mimetype": "text/x-python",
   "name": "python",
   "nbconvert_exporter": "python",
   "pygments_lexer": "ipython3",
   "version": "3.8.5"
  }
 },
 "nbformat": 4,
 "nbformat_minor": 4
}
