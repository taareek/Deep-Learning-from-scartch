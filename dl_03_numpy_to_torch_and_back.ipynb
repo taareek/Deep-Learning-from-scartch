{
 "cells": [
  {
   "cell_type": "code",
   "execution_count": 22,
   "metadata": {},
   "outputs": [
    {
     "name": "stdout",
     "output_type": "stream",
     "text": [
      "This code illustrate that how can we convert numpy into tensor and get back numpy from tensor\n"
     ]
    }
   ],
   "source": [
    "print(\"This code illustrate that how can we convert numpy into tensor and get back numpy from tensor\")"
   ]
  },
  {
   "cell_type": "code",
   "execution_count": 23,
   "metadata": {},
   "outputs": [],
   "source": [
    "import numpy as np\n",
    "import torch"
   ]
  },
  {
   "cell_type": "code",
   "execution_count": 24,
   "metadata": {},
   "outputs": [
    {
     "name": "stdout",
     "output_type": "stream",
     "text": [
      "[[-0.67664056  2.27055623  0.93614609]\n",
      " [ 1.66283167 -0.54097684 -0.17603564]\n",
      " [-1.28758421 -0.93727703 -0.70542708]\n",
      " [ 0.25671682  0.15446687  0.92397226]]\n",
      "<class 'numpy.ndarray'>\n"
     ]
    }
   ],
   "source": [
    "a = np.random.randn(4,3)\n",
    "print(a)\n",
    "print(type(a))"
   ]
  },
  {
   "cell_type": "code",
   "execution_count": 25,
   "metadata": {},
   "outputs": [
    {
     "name": "stdout",
     "output_type": "stream",
     "text": [
      "tensor([[-0.6766,  2.2706,  0.9361],\n",
      "        [ 1.6628, -0.5410, -0.1760],\n",
      "        [-1.2876, -0.9373, -0.7054],\n",
      "        [ 0.2567,  0.1545,  0.9240]], dtype=torch.float64)\n",
      "<class 'torch.Tensor'>\n"
     ]
    }
   ],
   "source": [
    "b = torch.from_numpy(a)\n",
    "print(b)\n",
    "print(type(b))"
   ]
  },
  {
   "cell_type": "code",
   "execution_count": 26,
   "metadata": {},
   "outputs": [
    {
     "name": "stdout",
     "output_type": "stream",
     "text": [
      "[[-0.67664056  2.27055623  0.93614609]\n",
      " [ 1.66283167 -0.54097684 -0.17603564]\n",
      " [-1.28758421 -0.93727703 -0.70542708]\n",
      " [ 0.25671682  0.15446687  0.92397226]]\n",
      "<class 'numpy.ndarray'>\n"
     ]
    }
   ],
   "source": [
    "b.numpy()\n",
    "c= b.numpy()\n",
    "print(c)\n",
    "print(type(c))"
   ]
  },
  {
   "cell_type": "code",
   "execution_count": 27,
   "metadata": {},
   "outputs": [
    {
     "data": {
      "text/plain": [
       "tensor([[-2.0299,  6.8117,  2.8084],\n",
       "        [ 4.9885, -1.6229, -0.5281],\n",
       "        [-3.8628, -2.8118, -2.1163],\n",
       "        [ 0.7702,  0.4634,  2.7719]], dtype=torch.float64)"
      ]
     },
     "execution_count": 27,
     "metadata": {},
     "output_type": "execute_result"
    }
   ],
   "source": [
    "b.mul_(3)"
   ]
  },
  {
   "cell_type": "code",
   "execution_count": 28,
   "metadata": {},
   "outputs": [
    {
     "name": "stdout",
     "output_type": "stream",
     "text": [
      "tensor([[-2.0299,  6.8117,  2.8084],\n",
      "        [ 4.9885, -1.6229, -0.5281],\n",
      "        [-3.8628, -2.8118, -2.1163],\n",
      "        [ 0.7702,  0.4634,  2.7719]], dtype=torch.float64)\n",
      "<class 'torch.Tensor'>\n",
      "[[ -6.08976504  20.43500604   8.42531482]\n",
      " [ 14.96548503  -4.86879159  -1.58432075]\n",
      " [-11.5882579   -8.43549324  -6.34884373]\n",
      " [  2.31045134   1.39020183   8.31575032]]\n",
      "<class 'numpy.ndarray'>\n"
     ]
    }
   ],
   "source": [
    "print(b)\n",
    "print(type(b))\n",
    "c = c*3\n",
    "print(c)\n",
    "print(type(c))"
   ]
  },
  {
   "cell_type": "code",
   "execution_count": 29,
   "metadata": {},
   "outputs": [
    {
     "data": {
      "text/plain": [
       "array([[-2.02992168,  6.81166868,  2.80843827],\n",
       "       [ 4.98849501, -1.62293053, -0.52810692],\n",
       "       [-3.86275263, -2.81183108, -2.11628124],\n",
       "       [ 0.77015045,  0.46340061,  2.77191677]])"
      ]
     },
     "execution_count": 29,
     "metadata": {},
     "output_type": "execute_result"
    }
   ],
   "source": [
    "a\n",
    "# Numpy array matches new values from Tensor\n",
    "# The memory is shared between the Numpy array and Torch tensor,\n",
    "# so if you change the values in-place of one object, the other will change as well."
   ]
  },
  {
   "cell_type": "code",
   "execution_count": null,
   "metadata": {},
   "outputs": [],
   "source": []
  }
 ],
 "metadata": {
  "kernelspec": {
   "display_name": "Python 3",
   "language": "python",
   "name": "python3"
  },
  "language_info": {
   "codemirror_mode": {
    "name": "ipython",
    "version": 3
   },
   "file_extension": ".py",
   "mimetype": "text/x-python",
   "name": "python",
   "nbconvert_exporter": "python",
   "pygments_lexer": "ipython3",
   "version": "3.8.5"
  }
 },
 "nbformat": 4,
 "nbformat_minor": 4
}
