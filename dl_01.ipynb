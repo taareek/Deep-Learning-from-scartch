{
 "cells": [
  {
   "cell_type": "code",
   "execution_count": 1,
   "metadata": {},
   "outputs": [],
   "source": [
    "import torch"
   ]
  },
  {
   "cell_type": "code",
   "execution_count": 2,
   "metadata": {},
   "outputs": [],
   "source": [
    "def activation(x):\n",
    "    \"\"\"\n",
    "    sigmoid activate function\n",
    "    arguments:\n",
    "    x: torch.Tensor\n",
    "    \"\"\"\n",
    "    return 1/(1+torch.exp(-x))"
   ]
  },
  {
   "cell_type": "code",
   "execution_count": 9,
   "metadata": {},
   "outputs": [],
   "source": [
    "#Genarate some dat\n",
    "torch.manual_seed(7) # setting the random seeds so things are predictable \n",
    "#Features are 5 random normal variables \n",
    "features = torch.randn((1,5))\n",
    "#true weights for data, normal variables again\n",
    "weights = torch.randn_like(features)\n",
    "#and a true bias term\n",
    "bias = torch.randn((1,1))"
   ]
  },
  {
   "cell_type": "code",
   "execution_count": 10,
   "metadata": {},
   "outputs": [
    {
     "name": "stdout",
     "output_type": "stream",
     "text": [
      "Features:  tensor([[-0.1468,  0.7861,  0.9468, -1.1143,  1.6908]])\n",
      "Weights: tensor([[-0.8948, -0.3556,  1.2324,  0.1382, -1.6822]])\n",
      "Bias:  tensor([[0.3177]])\n"
     ]
    }
   ],
   "source": [
    "print('Features: ', features)\n",
    "print('Weights:', weights)\n",
    "print('Bias: ', bias)"
   ]
  },
  {
   "cell_type": "code",
   "execution_count": 11,
   "metadata": {},
   "outputs": [
    {
     "data": {
      "text/plain": [
       "tensor(2.1626)"
      ]
     },
     "execution_count": 11,
     "metadata": {},
     "output_type": "execute_result"
    }
   ],
   "source": [
    "torch.sum(features)"
   ]
  },
  {
   "cell_type": "code",
   "execution_count": 12,
   "metadata": {},
   "outputs": [
    {
     "name": "stdout",
     "output_type": "stream",
     "text": [
      "Reshape:  tensor([[-0.8948, -0.3556,  1.2324,  0.1382, -1.6822]])\n",
      "Reshape row as column:  tensor([[-0.8948],\n",
      "        [-0.3556],\n",
      "        [ 1.2324],\n",
      "        [ 0.1382],\n",
      "        [-1.6822]])\n",
      "Resize:  tensor([[-0.8948, -0.3556,  1.2324,  0.1382, -1.6822]])\n",
      "Resize:  tensor([[-0.8948, -0.3556,  1.2324,  0.1382]])\n",
      "Resize:  tensor([[-0.8948, -0.3556,  1.2324],\n",
      "        [ 0.1382, -1.6822,  0.0000]])\n",
      "Resize row as column:  tensor([[-0.8948],\n",
      "        [-0.3556],\n",
      "        [ 1.2324],\n",
      "        [ 0.1382],\n",
      "        [-1.6822]])\n",
      "View:  tensor([[-0.8948, -0.3556,  1.2324,  0.1382, -1.6822]])\n",
      "View row as column:  tensor([[-0.8948],\n",
      "        [-0.3556],\n",
      "        [ 1.2324],\n",
      "        [ 0.1382],\n",
      "        [-1.6822]])\n"
     ]
    }
   ],
   "source": [
    "print('Reshape: ', weights.reshape(1,5))\n",
    "print('Reshape row as column: ', weights.reshape(5,1))\n",
    "print('Resize: ', weights.resize(1,5))\n",
    "print('Resize: ', weights.resize_(1,4))\n",
    "print('Resize: ', weights.resize_(2,3))\n",
    "print('Resize row as column: ', weights.resize_(5,1))\n",
    "#we are gonna use view method for more precesion \n",
    "print('View: ', weights.view(1,5))\n",
    "print('View row as column: ', weights.view(5,1))"
   ]
  },
  {
   "cell_type": "code",
   "execution_count": 13,
   "metadata": {},
   "outputs": [
    {
     "name": "stdout",
     "output_type": "stream",
     "text": [
      "shape: torch.Size([1, 5])\n"
     ]
    },
    {
     "data": {
      "text/plain": [
       "torch.Size([5, 1])"
      ]
     },
     "execution_count": 13,
     "metadata": {},
     "output_type": "execute_result"
    }
   ],
   "source": [
    "print('shape:',features.shape)\n",
    "weights.size() #getting the sizes\n",
    "#We can see shape of tensors in both ways"
   ]
  },
  {
   "cell_type": "code",
   "execution_count": 14,
   "metadata": {},
   "outputs": [],
   "source": [
    "# calculation output y for our input features\n",
    "\"\"\"\n",
    "output = sigmoid(sum(features*weights) + bias)\n",
    "\n",
    "\"\"\"\n",
    "y = activation(torch.sum(features*weights) + bias) # torch version\n",
    "y1 = activation((features*weights).sum() + bias) # sum like numpy"
   ]
  },
  {
   "cell_type": "code",
   "execution_count": 15,
   "metadata": {},
   "outputs": [
    {
     "name": "stdout",
     "output_type": "stream",
     "text": [
      "tensor([[0.0448]])\n",
      "sum in another way:  tensor([[0.0448]])\n"
     ]
    }
   ],
   "source": [
    "print(y)\n",
    "print(\"sum in another way: \", y1)"
   ]
  },
  {
   "cell_type": "code",
   "execution_count": 16,
   "metadata": {},
   "outputs": [
    {
     "data": {
      "text/plain": [
       "tensor([[0.1595]])"
      ]
     },
     "execution_count": 16,
     "metadata": {},
     "output_type": "execute_result"
    }
   ],
   "source": [
    "# calculating matrix multiplication using matrix multiplication\n",
    "y = activation(torch.mm(features, weights.view(5,1) ) + bias)\n",
    "y"
   ]
  },
  {
   "cell_type": "code",
   "execution_count": 17,
   "metadata": {},
   "outputs": [
    {
     "data": {
      "text/plain": [
       "tensor([[0.1595]])"
      ]
     },
     "execution_count": 17,
     "metadata": {},
     "output_type": "execute_result"
    }
   ],
   "source": [
    "#We can also use torch.matmul() for matrix multiplication\n",
    "y = activation(torch.matmul(features, weights.view(5,1) ) + bias)\n",
    "y"
   ]
  },
  {
   "cell_type": "code",
   "execution_count": 18,
   "metadata": {},
   "outputs": [
    {
     "name": "stdout",
     "output_type": "stream",
     "text": [
      "This is the first code to approach Neural network with pytorch\n"
     ]
    }
   ],
   "source": [
    "print(\"This is the first code to approach Neural network with pytorch\")"
   ]
  },
  {
   "cell_type": "code",
   "execution_count": null,
   "metadata": {},
   "outputs": [],
   "source": []
  }
 ],
 "metadata": {
  "kernelspec": {
   "display_name": "Python 3",
   "language": "python",
   "name": "python3"
  },
  "language_info": {
   "codemirror_mode": {
    "name": "ipython",
    "version": 3
   },
   "file_extension": ".py",
   "mimetype": "text/x-python",
   "name": "python",
   "nbconvert_exporter": "python",
   "pygments_lexer": "ipython3",
   "version": "3.8.5"
  }
 },
 "nbformat": 4,
 "nbformat_minor": 4
}
