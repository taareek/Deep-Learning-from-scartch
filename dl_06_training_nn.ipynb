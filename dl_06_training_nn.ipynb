{
 "cells": [
  {
   "cell_type": "code",
   "execution_count": 1,
   "metadata": {},
   "outputs": [],
   "source": [
    "import torch\n",
    "from torch import nn\n",
    "import torch.nn.functional as F\n",
    "from torchvision import datasets, transforms\n",
    "\n",
    "# Define a transform to normalize the data\n",
    "transform = transforms.Compose([transforms.ToTensor(),\n",
    "                                transforms.Normalize((0.5,), (0.5,)),\n",
    "                              ])\n",
    "# Download and load the training data\n",
    "trainset = datasets.MNIST('~/.pytorch/MNIST_data/', download=True, train=True, transform=transform)\n",
    "trainloader = torch.utils.data.DataLoader(trainset, batch_size=64, shuffle=True)"
   ]
  },
  {
   "cell_type": "code",
   "execution_count": 8,
   "metadata": {},
   "outputs": [
    {
     "name": "stdout",
     "output_type": "stream",
     "text": [
      "torch.Size([64, 1, 28, 28])\n",
      "torch.Size([64, 784])\n",
      "torch.Size([64, 10])\n",
      "tensor([-0.0475, -0.1505, -0.1194, -0.0546,  0.1218, -0.0130,  0.1956,  0.1912,\n",
      "        -0.1198,  0.0043], grad_fn=<SelectBackward>)\n",
      "torch.Size([64])\n",
      "tensor(7)\n",
      "tensor(2.3083, grad_fn=<NllLossBackward>)\n"
     ]
    }
   ],
   "source": [
    "#Building a Feed forward network\n",
    "model = nn.Sequential(nn.Linear(784,128),\n",
    "                      nn.ReLU(),\n",
    "                      nn.Linear(128,64),\n",
    "                      nn.ReLU(),\n",
    "                      nn.Linear(64,10))\n",
    "\n",
    "# Defining the loss\n",
    "criterion = nn.CrossEntropyLoss()\n",
    "\n",
    "#Get our data\n",
    "images, labels = next(iter(trainloader))\n",
    "print(images.shape)\n",
    "#Flatten images\n",
    "images = images.view(images.shape[0], -1)\n",
    "print(images.shape)\n",
    "#Forward pass, get out logits\n",
    "logits = model(images)\n",
    "print(logits.shape)\n",
    "print(logits[3])\n",
    "print(labels.shape)\n",
    "print(labels[3])\n",
    "#Calculate the loss with the logits and labels\n",
    "loss = criterion(logits, labels)\n",
    "print(loss)"
   ]
  },
  {
   "cell_type": "markdown",
   "metadata": {},
   "source": [
    "# My Model with softmax output and calculate loss with negative log likelihood loss"
   ]
  },
  {
   "cell_type": "code",
   "execution_count": 7,
   "metadata": {},
   "outputs": [
    {
     "name": "stdout",
     "output_type": "stream",
     "text": [
      "torch.Size([64, 10])\n",
      "tensor([-2.4237, -2.2963, -2.3095, -2.2999, -2.2693, -2.2493, -2.2412, -2.2660,\n",
      "        -2.3069, -2.3784], grad_fn=<SelectBackward>)\n",
      "tensor(2.3043, grad_fn=<NllLossBackward>)\n"
     ]
    }
   ],
   "source": [
    "my_model = nn.Sequential(nn.Linear(784,128),\n",
    "                         nn.ReLU(),\n",
    "                         nn.Linear(128,64),\n",
    "                         nn.ReLU(),\n",
    "                         nn.Linear(64,10),\n",
    "                         nn.LogSoftmax(dim =1))\n",
    "\n",
    "#Define the loss\n",
    "calculate_loss =  nn.NLLLoss()\n",
    "#Getting data\n",
    "images, labels = next(iter(trainloader))\n",
    "#Flatten the images\n",
    "images = images.view(images.shape[0], -1)\n",
    "#Forward pass, get output with log-softmax\n",
    "logits_2  = my_model(images)\n",
    "print(logits_2.shape)\n",
    "print(logits_2[2])\n",
    "# Calculating the loss using log likelihood loss function\n",
    "loss_2 = calculate_loss(logits_2, labels)\n",
    "print(loss_2)"
   ]
  },
  {
   "cell_type": "markdown",
   "metadata": {},
   "source": [
    "**Autograd**"
   ]
  },
  {
   "cell_type": "code",
   "execution_count": 16,
   "metadata": {},
   "outputs": [
    {
     "name": "stdout",
     "output_type": "stream",
     "text": [
      "tensor([0.])\n"
     ]
    },
    {
     "data": {
      "text/plain": [
       "False"
      ]
     },
     "execution_count": 16,
     "metadata": {},
     "output_type": "execute_result"
    }
   ],
   "source": [
    "x = torch.zeros(1, requires_grad = True)\n",
    "with torch.no_grad():\n",
    "    y = x*2\n",
    "print(y)\n",
    "y.requires_grad"
   ]
  },
  {
   "cell_type": "markdown",
   "metadata": {},
   "source": [
    "Also, you can turn on or off gradients altogether with torch.set_grad_enabled(True|False).\n",
    "The gradients are computed with respect to some variable z with z.backward(). This does a backward pass through the operations that created z."
   ]
  },
  {
   "cell_type": "code",
   "execution_count": 18,
   "metadata": {},
   "outputs": [
    {
     "name": "stdout",
     "output_type": "stream",
     "text": [
      "tensor([[-0.6172,  0.0769],\n",
      "        [ 0.2620,  0.4664]], requires_grad=True)\n"
     ]
    },
    {
     "data": {
      "text/plain": [
       "True"
      ]
     },
     "execution_count": 18,
     "metadata": {},
     "output_type": "execute_result"
    }
   ],
   "source": [
    "x = torch.randn(2,2, requires_grad = True)\n",
    "print(x)\n",
    "x.requires_grad"
   ]
  },
  {
   "cell_type": "code",
   "execution_count": 20,
   "metadata": {},
   "outputs": [
    {
     "name": "stdout",
     "output_type": "stream",
     "text": [
      "tensor([[0.3810, 0.0059],\n",
      "        [0.0686, 0.2175]], grad_fn=<PowBackward0>)\n"
     ]
    },
    {
     "data": {
      "text/plain": [
       "True"
      ]
     },
     "execution_count": 20,
     "metadata": {},
     "output_type": "execute_result"
    }
   ],
   "source": [
    "y = x**2\n",
    "print(y)\n",
    "y.requires_grad"
   ]
  },
  {
   "cell_type": "code",
   "execution_count": 21,
   "metadata": {},
   "outputs": [
    {
     "name": "stdout",
     "output_type": "stream",
     "text": [
      "tensor(0.1683, grad_fn=<MeanBackward0>)\n"
     ]
    }
   ],
   "source": [
    "z = y.mean()\n",
    "print(z)"
   ]
  },
  {
   "cell_type": "code",
   "execution_count": 22,
   "metadata": {},
   "outputs": [
    {
     "name": "stdout",
     "output_type": "stream",
     "text": [
      "None\n",
      "None\n"
     ]
    },
    {
     "name": "stderr",
     "output_type": "stream",
     "text": [
      "<ipython-input-22-cd4c40187c02>:2: UserWarning: The .grad attribute of a Tensor that is not a leaf Tensor is being accessed. Its .grad attribute won't be populated during autograd.backward(). If you indeed want the gradient for a non-leaf Tensor, use .retain_grad() on the non-leaf Tensor. If you access the non-leaf Tensor by mistake, make sure you access the leaf Tensor instead. See github.com/pytorch/pytorch/pull/30531 for more informations.\n",
      "  print(y.grad)\n"
     ]
    }
   ],
   "source": [
    "print(x.grad)\n",
    "print(y.grad)"
   ]
  },
  {
   "cell_type": "code",
   "execution_count": 23,
   "metadata": {},
   "outputs": [
    {
     "name": "stdout",
     "output_type": "stream",
     "text": [
      "tensor([[-0.3086,  0.0385],\n",
      "        [ 0.1310,  0.2332]])\n",
      "tensor([[-0.3086,  0.0385],\n",
      "        [ 0.1310,  0.2332]], grad_fn=<DivBackward0>)\n"
     ]
    }
   ],
   "source": [
    "z.backward()\n",
    "print(x.grad)\n",
    "print(x/2)"
   ]
  },
  {
   "cell_type": "code",
   "execution_count": 31,
   "metadata": {},
   "outputs": [],
   "source": [
    "# Build a feed-forward network\n",
    "model = nn.Sequential(nn.Linear(784, 128),\n",
    "                      nn.ReLU(),\n",
    "                      nn.Linear(128, 64),\n",
    "                      nn.ReLU(),\n",
    "                      nn.Linear(64, 10),\n",
    "                      nn.LogSoftmax(dim=1))\n",
    "\n",
    "criterion = nn.NLLLoss()\n",
    "images, labels = next(iter(trainloader))\n",
    "images = images.view(images.shape[0], -1)\n",
    "\n",
    "logps = model(images)\n",
    "loss = criterion(logps, labels)"
   ]
  },
  {
   "cell_type": "code",
   "execution_count": 32,
   "metadata": {},
   "outputs": [
    {
     "name": "stdout",
     "output_type": "stream",
     "text": [
      "Before backward pass: \n",
      " None\n",
      "After backward pass: \n",
      " tensor([[-3.5889e-04, -3.5889e-04, -3.5889e-04,  ..., -3.5889e-04,\n",
      "         -3.5889e-04, -3.5889e-04],\n",
      "        [-2.1071e-03, -2.1071e-03, -2.1071e-03,  ..., -2.1071e-03,\n",
      "         -2.1071e-03, -2.1071e-03],\n",
      "        [ 2.9162e-03,  2.9162e-03,  2.9162e-03,  ...,  2.9162e-03,\n",
      "          2.9162e-03,  2.9162e-03],\n",
      "        ...,\n",
      "        [-3.6813e-03, -3.6813e-03, -3.6813e-03,  ..., -3.6813e-03,\n",
      "         -3.6813e-03, -3.6813e-03],\n",
      "        [ 3.5215e-03,  3.5215e-03,  3.5215e-03,  ...,  3.5215e-03,\n",
      "          3.5215e-03,  3.5215e-03],\n",
      "        [-3.2476e-05, -3.2476e-05, -3.2476e-05,  ..., -3.2476e-05,\n",
      "         -3.2476e-05, -3.2476e-05]])\n"
     ]
    }
   ],
   "source": [
    "print('Before backward pass: \\n', model[0].weight.grad)\n",
    "\n",
    "loss.backward()\n",
    "\n",
    "print('After backward pass: \\n', model[0].weight.grad)"
   ]
  },
  {
   "cell_type": "code",
   "execution_count": 33,
   "metadata": {},
   "outputs": [],
   "source": [
    "from torch import optim\n",
    "optimizer = optim.SGD(model.parameters(), lr = 0.01)"
   ]
  },
  {
   "cell_type": "code",
   "execution_count": 40,
   "metadata": {},
   "outputs": [
    {
     "name": "stdout",
     "output_type": "stream",
     "text": [
      "Initial weights:  Parameter containing:\n",
      "tensor([[ 3.0601e-02, -1.2803e-02,  2.4131e-03,  ..., -2.7497e-02,\n",
      "         -3.3211e-05,  2.9672e-03],\n",
      "        [ 2.9511e-02,  2.5504e-02, -2.3023e-02,  ..., -2.4637e-02,\n",
      "         -2.3107e-02,  3.2171e-02],\n",
      "        [ 2.4239e-02, -2.2799e-02, -8.2576e-03,  ...,  1.9451e-02,\n",
      "          2.5680e-02, -2.3160e-02],\n",
      "        ...,\n",
      "        [-2.8293e-02, -2.6967e-02, -2.1232e-02,  ...,  9.1056e-03,\n",
      "          2.2899e-02,  1.4649e-03],\n",
      "        [ 9.1891e-03, -2.9866e-02, -3.2119e-02,  ..., -2.2340e-02,\n",
      "         -1.7779e-02,  1.0249e-02],\n",
      "        [-3.1128e-02, -1.2170e-02,  1.4823e-02,  ...,  1.8353e-02,\n",
      "          2.9773e-02,  1.4765e-02]], requires_grad=True)\n",
      "Loss:  tensor(2.3262, grad_fn=<NllLossBackward>)\n",
      "Gradient:  tensor([[ 0.0028,  0.0028,  0.0028,  ...,  0.0028,  0.0028,  0.0028],\n",
      "        [ 0.0040,  0.0040,  0.0040,  ...,  0.0040,  0.0040,  0.0040],\n",
      "        [ 0.0021,  0.0021,  0.0021,  ...,  0.0021,  0.0021,  0.0021],\n",
      "        ...,\n",
      "        [ 0.0006,  0.0006,  0.0006,  ...,  0.0006,  0.0006,  0.0006],\n",
      "        [ 0.0018,  0.0018,  0.0018,  ...,  0.0018,  0.0018,  0.0018],\n",
      "        [-0.0019, -0.0019, -0.0019,  ..., -0.0019, -0.0019, -0.0019]])\n"
     ]
    }
   ],
   "source": [
    "print('Initial weights: ', model[0].weight)\n",
    "images, labels = next(iter(trainloader))\n",
    "images.resize_(64,784)\n",
    "#print(images[1].shape)\n",
    "# Clear the gradients, do this because gradients are accumulated\n",
    "optimizer.zero_grad()\n",
    "# Forward pass, then backward pass, then update weights\n",
    "output = model(images)\n",
    "loss = criterion(output, labels)\n",
    "print('Loss: ', loss)\n",
    "loss.backward()\n",
    "print('Gradient: ', model[0].weight.grad)"
   ]
  },
  {
   "cell_type": "code",
   "execution_count": 41,
   "metadata": {},
   "outputs": [
    {
     "name": "stdout",
     "output_type": "stream",
     "text": [
      "Updated weights:  Parameter containing:\n",
      "tensor([[ 3.0572e-02, -1.2831e-02,  2.3847e-03,  ..., -2.7525e-02,\n",
      "         -6.1573e-05,  2.9389e-03],\n",
      "        [ 2.9470e-02,  2.5464e-02, -2.3063e-02,  ..., -2.4678e-02,\n",
      "         -2.3147e-02,  3.2131e-02],\n",
      "        [ 2.4218e-02, -2.2820e-02, -8.2788e-03,  ...,  1.9430e-02,\n",
      "          2.5659e-02, -2.3181e-02],\n",
      "        ...,\n",
      "        [-2.8299e-02, -2.6973e-02, -2.1237e-02,  ...,  9.1000e-03,\n",
      "          2.2893e-02,  1.4592e-03],\n",
      "        [ 9.1707e-03, -2.9885e-02, -3.2138e-02,  ..., -2.2359e-02,\n",
      "         -1.7797e-02,  1.0230e-02],\n",
      "        [-3.1109e-02, -1.2151e-02,  1.4842e-02,  ...,  1.8372e-02,\n",
      "          2.9792e-02,  1.4783e-02]], requires_grad=True)\n"
     ]
    }
   ],
   "source": [
    "# Take an update step and few the new weights\n",
    "optimizer.step()\n",
    "print('Updated weights: ', model[0].weight)"
   ]
  },
  {
   "cell_type": "code",
   "execution_count": 45,
   "metadata": {},
   "outputs": [
    {
     "name": "stdout",
     "output_type": "stream",
     "text": [
      "Training loss:  1.9194586048248226\n",
      "Training loss:  0.8813012041834626\n",
      "Training loss:  0.5401082318951326\n",
      "Training loss:  0.4375562591752264\n",
      "Training loss:  0.39022570665774825\n"
     ]
    }
   ],
   "source": [
    "model = nn.Sequential(nn.Linear(784, 128),\n",
    "                      nn.ReLU(),\n",
    "                      nn.Linear(128, 64),\n",
    "                      nn.ReLU(),\n",
    "                      nn.Linear(64, 10),\n",
    "                      nn.LogSoftmax(dim=1))\n",
    "\n",
    "criterion = nn.NLLLoss()\n",
    "optimizer = optim.SGD(model.parameters(), lr=0.003)\n",
    "\n",
    "epochs = 5\n",
    "for e in range(epochs):\n",
    "    running_loss = 0\n",
    "    for images, labels in trainloader:\n",
    "        #Flatten MNIST images into a 784 vector\n",
    "        images = images.view(images.shape[0], -1)\n",
    "        #Training pass\n",
    "        optimizer.zero_grad()\n",
    "        output = model(images)\n",
    "        loss = criterion(output, labels)\n",
    "        loss.backward()\n",
    "        optimizer.step()\n",
    "        \n",
    "        running_loss += loss.item()\n",
    "    else:\n",
    "        print('Training loss: ', running_loss/len(trainloader))\n",
    "        "
   ]
  },
  {
   "cell_type": "code",
   "execution_count": 47,
   "metadata": {},
   "outputs": [
    {
     "data": {
      "image/png": "[encoded data removed]",
      "text/plain": [
       "<Figure size 432x648 with 2 Axes>"
      ]
     },
     "metadata": {
      "needs_background": "light"
     },
     "output_type": "display_data"
    }
   ],
   "source": [
    "%matplotlib inline\n",
    "import helper\n",
    "\n",
    "images, labels = next(iter(trainloader))\n",
    "\n",
    "img = images[12].view(1, 784)\n",
    "# Turn off gradients to speed up this part\n",
    "with torch.no_grad():\n",
    "    logps = model(img)\n",
    "\n",
    "# Output of the network are log-probabilities, need to take exponential for probabilities\n",
    "ps = torch.exp(logps)\n",
    "helper.view_classify(img.view(1, 28, 28), ps)"
   ]
  },
  {
   "cell_type": "code",
   "execution_count": null,
   "metadata": {},
   "outputs": [],
   "source": []
  }
 ],
 "metadata": {
  "kernelspec": {
   "display_name": "Python 3",
   "language": "python",
   "name": "python3"
  },
  "language_info": {
   "codemirror_mode": {
    "name": "ipython",
    "version": 3
   },
   "file_extension": ".py",
   "mimetype": "text/x-python",
   "name": "python",
   "nbconvert_exporter": "python",
   "pygments_lexer": "ipython3",
   "version": "3.8.5"
  }
 },
 "nbformat": 4,
 "nbformat_minor": 4
}
